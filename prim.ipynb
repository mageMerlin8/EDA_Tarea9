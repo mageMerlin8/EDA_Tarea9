{
 "cells": [
  {
   "cell_type": "code",
   "execution_count": null,
   "metadata": {},
   "outputs": [],
   "source": []
  },
  {
   "cell_type": "code",
   "execution_count": 2,
   "metadata": {},
   "outputs": [],
   "source": [
    "import networkx as nx\n",
    "import random as rnd"
   ]
  },
  {
   "cell_type": "code",
   "execution_count": 3,
   "metadata": {},
   "outputs": [],
   "source": [
    "def prim(g):\n",
    "    #crea grafica de salida 'resp'\n",
    "    resp = nx.Graph();\n",
    "    #agrega el primero\n",
    "    resp.add_edges_from([selectMinVertex(g)])\n",
    "    #sigue hasta que todos los nodos esten en resp\n",
    "    while(set(resp.nodes()) != set(g.nodes())):\n",
    "        resp.add_edges_from([selectMinConectedVertex(g,resp)])\n",
    "    return resp\n",
    "\n",
    "def kruskal(g):\n",
    "    #crea la grafica resp\n",
    "    resp = nx.Graph()\n",
    "    #agrega todos los nodos sin vertives\n",
    "    resp.add_nodes_from(g.nodes())\n",
    "    aristas = [(u,v,w) for u,v,w in g.edges(data=True)]\n",
    "    #sigue hasta que la grafica quede conectada o se acaben los vertices\n",
    "    while(not nx.is_connected(resp) and len(aristas) > 0):\n",
    "        minAr = min(aristas, key=lambda t:t[2]['weight'])\n",
    "        aristas.remove(minAr)\n",
    "        #aqui se crea una lista de los componentes que contienen a los vertices de la arista minima\n",
    "        setComps = [i for i in nx.connected_components(resp) if(minAr[0] in set(i) or minAr[1] in set(i))]\n",
    "        #si la lista contiene 2 cosas los vertices no estan conectados\n",
    "        if(len(setComps)>1):\n",
    "            #se agrega la arista\n",
    "            resp.add_edges_from([minAr])\n",
    "    return resp\n",
    "          \n",
    "def selectMinVertex(g, visited=None):\n",
    "    if(visited is not None):\n",
    "        notVisited = set(g.nodes) - set(visited)\n",
    "    else:\n",
    "        notVisited = set(g.nodes)\n",
    "    verts = [(u,v,w) for u,v,w in g.edges(nbunch=notVisited, data=True)]\n",
    "    return min(verts, key = lambda t: t[2]['weight'])\n",
    "\n",
    "def selectMinConectedVertex(g, h):\n",
    "    verts = [(u,v,w) for u,v,w in g.edges(nbunch=h.nodes(), data=True) if((u,v) not in h.edges() and (u not in h.nodes() or v not in h.nodes))]\n",
    "    return min(verts, key = lambda t: t[2]['weight'])\n",
    "    "
   ]
  },
  {
   "cell_type": "code",
   "execution_count": 4,
   "metadata": {},
   "outputs": [],
   "source": [
    "def pintaGrafica(g, labs=None):\n",
    "    #fija la posicion de los nodos\n",
    "    ps = nx.spring_layout(g)\n",
    "    #pinta los nodos con sus nombres\n",
    "    nx.draw(g, pos=ps ,with_labels=True)\n",
    "    \n",
    "    #crea diccionario de edge:weight para poner en las aristas el peso\n",
    "    ed_labels = { (u,v):w['weight'] for u, v, w in g.edges.data()}\n",
    "    \n",
    "    nx.draw_networkx_edge_labels(g, pos=ps, edge_labels=ed_labels)"
   ]
  },
  {
   "cell_type": "code",
   "execution_count": null,
   "metadata": {},
   "outputs": [],
   "source": []
  },
  {
   "cell_type": "code",
   "execution_count": null,
   "metadata": {},
   "outputs": [],
   "source": []
  },
  {
   "cell_type": "code",
   "execution_count": null,
   "metadata": {},
   "outputs": [],
   "source": []
  },
  {
   "cell_type": "code",
   "execution_count": 5,
   "metadata": {},
   "outputs": [],
   "source": [
    "g = nx.Graph()"
   ]
  },
  {
   "cell_type": "code",
   "execution_count": 6,
   "metadata": {},
   "outputs": [],
   "source": [
    "g.add_nodes_from((i for i in range (10)))"
   ]
  },
  {
   "cell_type": "code",
   "execution_count": 7,
   "metadata": {},
   "outputs": [
    {
     "data": {
      "text/plain": [
       "[0, 1, 2, 3, 4, 5, 6, 7, 8, 9]"
      ]
     },
     "execution_count": 7,
     "metadata": {},
     "output_type": "execute_result"
    }
   ],
   "source": [
    "list(g.nodes)"
   ]
  },
  {
   "cell_type": "code",
   "execution_count": 8,
   "metadata": {},
   "outputs": [],
   "source": [
    "lisEd = [(9,7),(7,8),(8,6),(6,0),(0,2),(0,1),(1,5),(5,3),(5,10),(3,10),(10,4),(7,0),(7,3)];"
   ]
  },
  {
   "cell_type": "code",
   "execution_count": 9,
   "metadata": {},
   "outputs": [],
   "source": [
    "for edge in lisEd:\n",
    "    g.add_edge(edge[0], edge[1], weight = rnd.randint(1,9))"
   ]
  },
  {
   "cell_type": "code",
   "execution_count": 10,
   "metadata": {},
   "outputs": [
    {
     "name": "stdout",
     "output_type": "stream",
     "text": [
      "(0, 6){'weight': 5}\n",
      "(0, 2){'weight': 7}\n",
      "(0, 1){'weight': 1}\n",
      "(0, 7){'weight': 6}\n",
      "(1, 5){'weight': 9}\n",
      "(3, 5){'weight': 9}\n",
      "(3, 10){'weight': 1}\n",
      "(3, 7){'weight': 8}\n",
      "(4, 10){'weight': 2}\n",
      "(5, 10){'weight': 5}\n",
      "(6, 8){'weight': 5}\n",
      "(7, 9){'weight': 2}\n",
      "(7, 8){'weight': 8}\n"
     ]
    }
   ],
   "source": [
    "for e in g.edges:\n",
    "    print(str(e) + str(g[e[0]][e[1]]))"
   ]
  },
  {
   "cell_type": "code",
   "execution_count": 11,
   "metadata": {},
   "outputs": [
    {
     "data": {
      "text/plain": [
       "{(0, 6): 5,\n",
       " (0, 2): 7,\n",
       " (0, 1): 1,\n",
       " (0, 7): 6,\n",
       " (1, 5): 9,\n",
       " (3, 5): 9,\n",
       " (3, 10): 1,\n",
       " (3, 7): 8,\n",
       " (4, 10): 2,\n",
       " (5, 10): 5,\n",
       " (6, 8): 5,\n",
       " (7, 9): 2,\n",
       " (7, 8): 8}"
      ]
     },
     "execution_count": 11,
     "metadata": {},
     "output_type": "execute_result"
    }
   ],
   "source": [
    "list(g.edges.data())\n",
    "ed_labels = {(u,v):w['weight'] for u, v, w in g.edges.data()}\n",
    "ed_labels"
   ]
  },
  {
   "cell_type": "code",
   "execution_count": 14,
   "metadata": {},
   "outputs": [
    {
     "data": {
      "image/png": "[encoded data removed]",
      "text/plain": [
       "<Figure size 432x288 with 1 Axes>"
      ]
     },
     "metadata": {},
     "output_type": "display_data"
    }
   ],
   "source": [
    "pintaGrafica(g)"
   ]
  },
  {
   "cell_type": "code",
   "execution_count": null,
   "metadata": {},
   "outputs": [],
   "source": [
    "selectMinVertex(g)"
   ]
  },
  {
   "cell_type": "code",
   "execution_count": null,
   "metadata": {},
   "outputs": [],
   "source": [
    "h = nx.Graph()\n",
    "h.add_edges_from([(u,v,w) for u,v,w in g.edges(nbunch=[1,2,3], data=True)])\n",
    "pintaGrafica(h)"
   ]
  },
  {
   "cell_type": "code",
   "execution_count": null,
   "metadata": {},
   "outputs": [],
   "source": [
    "selectMinConectedVertex(g,h)"
   ]
  },
  {
   "cell_type": "code",
   "execution_count": null,
   "metadata": {},
   "outputs": [],
   "source": [
    "pintaGrafica(prim(g))"
   ]
  },
  {
   "cell_type": "code",
   "execution_count": null,
   "metadata": {},
   "outputs": [],
   "source": [
    "pintaGrafica(kruskal(g))"
   ]
  },
  {
   "cell_type": "code",
   "execution_count": 15,
   "metadata": {},
   "outputs": [],
   "source": [
    "g = nx.Graph()"
   ]
  },
  {
   "cell_type": "code",
   "execution_count": 16,
   "metadata": {},
   "outputs": [
    {
     "data": {
      "text/plain": [
       "[('A', 'B', {'weight': 6}),\n",
       " ('B', 'C', {'weight': 9}),\n",
       " ('B', 'G', {'weight': 12}),\n",
       " ('B', 'E', {'weight': 7}),\n",
       " ('C', 'D', {'weight': 4}),\n",
       " ('C', 'E', {'weight': 5}),\n",
       " ('D', 'I', {'weight': 14}),\n",
       " ('D', 'E', {'weight': 6}),\n",
       " ('D', 'H', {'weight': 8}),\n",
       " ('I', 'L', {'weight': 4}),\n",
       " ('I', 'H', {'weight': 9}),\n",
       " ('L', 'K', {'weight': 3}),\n",
       " ('L', 'H', {'weight': 14}),\n",
       " ('K', 'J', {'weight': 10}),\n",
       " ('K', 'H', {'weight': 12}),\n",
       " ('K', 'G', {'weight': 7}),\n",
       " ('J', 'F', {'weight': 11}),\n",
       " ('J', 'G', {'weight': 8}),\n",
       " ('F', 'A', {'weight': 5}),\n",
       " ('F', 'G', {'weight': 4}),\n",
       " ('F', 'E', {'weight': 8}),\n",
       " ('E', 'G', {'weight': 5}),\n",
       " ('G', 'H', {'weight': 5}),\n",
       " ('H', 'E', {'weight': 7})]"
      ]
     },
     "execution_count": 16,
     "metadata": {},
     "output_type": "execute_result"
    }
   ],
   "source": [
    "nodos=[('A','B',6), \n",
    " ('B','C',9),\n",
    " ('B','G',12),\n",
    " ('B','E',7),\n",
    " ('C','D',4),\n",
    " ('C','E',5),\n",
    " ('D','I',14),\n",
    " ('D','E',6),\n",
    " ('D','H',8),\n",
    " ('I','L',4),\n",
    " ('I','H',9),\n",
    " ('L','K',3),\n",
    " ('L','H',14),\n",
    " ('K','J',10),\n",
    " ('K','H',12),\n",
    " ('K','G',7),\n",
    " ('J','F',11),\n",
    " ('J','G',8),\n",
    " ('F','A',5),\n",
    " ('F','G',4),\n",
    " ('F','E',8),\n",
    " ('E','G',5),\n",
    " ('G','H',5),\n",
    " ('H','E',7)]\n",
    "nodos = [ (u,v,{'weight':w}) for u,v,w in nodos]\n",
    "nodos"
   ]
  },
  {
   "cell_type": "code",
   "execution_count": 17,
   "metadata": {},
   "outputs": [],
   "source": [
    "g.add_edges_from(nodos)"
   ]
  },
  {
   "cell_type": "code",
   "execution_count": 18,
   "metadata": {},
   "outputs": [
    {
     "data": {
      "image/png": "[encoded data removed]",
      "text/plain": [
       "<Figure size 432x288 with 1 Axes>"
      ]
     },
     "metadata": {},
     "output_type": "display_data"
    }
   ],
   "source": [
    "pintaGrafica(g)"
   ]
  },
  {
   "cell_type": "code",
   "execution_count": 19,
   "metadata": {},
   "outputs": [
    {
     "data": {
      "image/png": "[encoded data removed]",
      "text/plain": [
       "<Figure size 432x288 with 1 Axes>"
      ]
     },
     "metadata": {},
     "output_type": "display_data"
    }
   ],
   "source": [
    "pintaGrafica(prim(g))"
   ]
  },
  {
   "cell_type": "code",
   "execution_count": 21,
   "metadata": {},
   "outputs": [
    {
     "data": {
      "image/png": "[encoded data removed]",
      "text/plain": [
       "<Figure size 432x288 with 1 Axes>"
      ]
     },
     "metadata": {},
     "output_type": "display_data"
    }
   ],
   "source": [
    "pintaGrafica(kruskal(g))"
   ]
  },
  {
   "cell_type": "code",
   "execution_count": null,
   "metadata": {},
   "outputs": [],
   "source": [
    "for i in g.edges(data=True):\n",
    "    print(i)"
   ]
  },
  {
   "cell_type": "code",
   "execution_count": null,
   "metadata": {},
   "outputs": [],
   "source": [
    "wiri=[(u,v,w) for u,v,w in g.edges(data=True)]\n",
    "wiri"
   ]
  },
  {
   "cell_type": "code",
   "execution_count": null,
   "metadata": {},
   "outputs": [],
   "source": []
  },
  {
   "cell_type": "code",
   "execution_count": null,
   "metadata": {},
   "outputs": [],
   "source": [
    "h=nx.Graph()\n",
    "h.add_nodes_from(g)"
   ]
  },
  {
   "cell_type": "code",
   "execution_count": null,
   "metadata": {},
   "outputs": [],
   "source": []
  },
  {
   "cell_type": "code",
   "execution_count": null,
   "metadata": {},
   "outputs": [],
   "source": [
    "len([i for i in nx.connected_components(h) if(minAr[0] in set(i) or minAr[1] in set(i))])==2"
   ]
  },
  {
   "cell_type": "code",
   "execution_count": null,
   "metadata": {},
   "outputs": [],
   "source": [
    "pintaGrafica(h)"
   ]
  },
  {
   "cell_type": "code",
   "execution_count": null,
   "metadata": {},
   "outputs": [],
   "source": [
    "minAr = min(wiri, key=lambda t:t[2]['weight'])\n",
    "minAr"
   ]
  },
  {
   "cell_type": "code",
   "execution_count": null,
   "metadata": {},
   "outputs": [],
   "source": [
    "\n",
    "def kruskal(g):\n",
    "    #crea la grafica resp\n",
    "    resp = nx.Graph()\n",
    "    resp.add_nodes_from(g.nodes())\n",
    "    aristas = [(u,v,w) for u,v,w in g.edges(data=True)]\n",
    "    \n",
    "    while(not nx.is_connected(resp) and len(aristas) > 0):\n",
    "        minAr = min(aristas, key=lambda t:t[2]['weight'])\n",
    "        aristas.remove(minAr)\n",
    "        if(len([i for i in nx.connected_components(resp) if(minAr[0] in set(i) or minAr[1] in set(i))])>1):\n",
    "            resp.add_nodes_from([minAr])\n",
    "    return resp\n",
    "          "
   ]
  },
  {
   "cell_type": "code",
   "execution_count": null,
   "metadata": {},
   "outputs": [],
   "source": []
  },
  {
   "cell_type": "code",
   "execution_count": null,
   "metadata": {},
   "outputs": [],
   "source": []
  },
  {
   "cell_type": "code",
   "execution_count": null,
   "metadata": {},
   "outputs": [],
   "source": []
  },
  {
   "cell_type": "code",
   "execution_count": null,
   "metadata": {},
   "outputs": [],
   "source": []
  },
  {
   "cell_type": "code",
   "execution_count": null,
   "metadata": {},
   "outputs": [],
   "source": []
  },
  {
   "cell_type": "code",
   "execution_count": null,
   "metadata": {},
   "outputs": [],
   "source": []
  },
  {
   "cell_type": "code",
   "execution_count": null,
   "metadata": {},
   "outputs": [],
   "source": []
  },
  {
   "cell_type": "code",
   "execution_count": null,
   "metadata": {},
   "outputs": [],
   "source": []
  },
  {
   "cell_type": "code",
   "execution_count": null,
   "metadata": {},
   "outputs": [],
   "source": []
  },
  {
   "cell_type": "code",
   "execution_count": null,
   "metadata": {},
   "outputs": [],
   "source": []
  },
  {
   "cell_type": "code",
   "execution_count": null,
   "metadata": {},
   "outputs": [],
   "source": []
  },
  {
   "cell_type": "code",
   "execution_count": null,
   "metadata": {},
   "outputs": [],
   "source": []
  },
  {
   "cell_type": "code",
   "execution_count": null,
   "metadata": {},
   "outputs": [],
   "source": []
  },
  {
   "cell_type": "code",
   "execution_count": null,
   "metadata": {},
   "outputs": [],
   "source": []
  },
  {
   "cell_type": "code",
   "execution_count": null,
   "metadata": {},
   "outputs": [],
   "source": []
  },
  {
   "cell_type": "code",
   "execution_count": null,
   "metadata": {},
   "outputs": [],
   "source": []
  }
 ],
 "metadata": {
  "kernelspec": {
   "display_name": "Python 3",
   "language": "python",
   "name": "python3"
  },
  "language_info": {
   "codemirror_mode": {
    "name": "ipython",
    "version": 3
   },
   "file_extension": ".py",
   "mimetype": "text/x-python",
   "name": "python",
   "nbconvert_exporter": "python",
   "pygments_lexer": "ipython3",
   "version": "3.6.6"
  }
 },
 "nbformat": 4,
 "nbformat_minor": 2
}
